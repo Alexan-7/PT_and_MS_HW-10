{
 "cells": [
  {
   "cell_type": "markdown",
   "id": "78f097f4",
   "metadata": {},
   "source": [
    "## На складе лежат разные фрукты в разном количестве. Нужно написать функцию, которая на вход принимает любое количество названий фруктов и их количество, а возвращает общее количество фруктов на складе"
   ]
  },
  {
   "cell_type": "code",
   "execution_count": 1,
   "id": "41418699",
   "metadata": {},
   "outputs": [
    {
     "name": "stdout",
     "output_type": "stream",
     "text": [
      "Rоличество яблок: 67\n",
      "Количество апельсинов: 87\n",
      "Количество бананов: 234\n",
      "Количество огурцов: 456789\n",
      "Количество груш: 89\n",
      "Количество кг клубники: 45678\n",
      "Количество кокосов: 4567\n"
     ]
    }
   ],
   "source": [
    "apples = input('Rоличество яблок: ')\n",
    "apples = int(apples)\n",
    "oranges = input('Количество апельсинов: ')\n",
    "oranges = int(oranges)\n",
    "bananas = input('Количество бананов: ')\n",
    "bananas = int(bananas)\n",
    "cucumbers = input('Количество огурцов: ')\n",
    "cucumbers = int(cucumbers)\n",
    "pears = input('Количество груш: ')\n",
    "pears = int(pears)\n",
    "strawberry = input('Количество кг клубники: ')\n",
    "strawberry = int(strawberry)\n",
    "coconuts = input('Количество кокосов: ')\n",
    "coconuts = int(coconuts)"
   ]
  },
  {
   "cell_type": "code",
   "execution_count": 2,
   "id": "af12f94f",
   "metadata": {},
   "outputs": [
    {
     "name": "stdout",
     "output_type": "stream",
     "text": [
      "Общее количество фруктов на складе: 507511\n"
     ]
    }
   ],
   "source": [
    "quantity_fruits = apples + oranges + bananas + cucumbers + pears + strawberry + coconuts\n",
    "print(f'Общее количество фруктов на складе: {quantity_fruits}')"
   ]
  },
  {
   "cell_type": "raw",
   "id": "1cfddece",
   "metadata": {},
   "source": []
  },
  {
   "cell_type": "markdown",
   "id": "285de22e",
   "metadata": {},
   "source": [
    "## Дан список с затратами на рекламу. Но в данных есть ошибки, некоторые затраты имеют отрицательную величину. Удалите такие значения из списка и посчитайте суммарные затраты: [100, 125, -90, 345, 655, -1, 0, 200]. Используйте list comprehensions\n"
   ]
  },
  {
   "cell_type": "code",
   "execution_count": 3,
   "id": "e78e972a",
   "metadata": {},
   "outputs": [
    {
     "name": "stdout",
     "output_type": "stream",
     "text": [
      "Задайте количество элементов списка: 45\n",
      "Список с затратами на рекламу: [781, 446, -13, -203, 50, -740, -666, 929, 45, -318, 415, -126, -521, -761, 979, 848, 573, -612, 633, 487, -624, 877, -504, -644, -743, 854, -127, -528, -851, -708, 175, -948, 998, -511, -725, 221, -44, 276, -206, 912, 97, 586, 344, -300, 320]\n"
     ]
    }
   ],
   "source": [
    "from random import randrange\n",
    "expenses = int(input('Задайте количество элементов списка: '))\n",
    "list1 = [randrange(-1000, 1000) for i in range(expenses)]\n",
    "print(f'Список с затратами на рекламу: {list1}')\n",
    "summa = 0"
   ]
  },
  {
   "cell_type": "code",
   "execution_count": 4,
   "id": "3cded5b1",
   "metadata": {},
   "outputs": [
    {
     "name": "stdout",
     "output_type": "stream",
     "text": [
      "781 446 50 929 45 415 979 848 573 633 487 877 854 175 998 221 276 912 97 586 344 320 \n",
      "Сумма затрат: 11846.\n"
     ]
    }
   ],
   "source": [
    "for i in range(len(list1)):\n",
    "    if list1[i] >= 0:\n",
    "        print(list1[i], end=' ')\n",
    "        summa += list1[i]\n",
    "print(f'\\nСумма затрат: {summa}.')"
   ]
  },
  {
   "cell_type": "code",
   "execution_count": 5,
   "id": "70a2fa68",
   "metadata": {},
   "outputs": [
    {
     "name": "stdout",
     "output_type": "stream",
     "text": [
      "Положительные затраты: [781, 446, 50, 929, 45, 415, 979, 848, 573, 633, 487, 877, 854, 175, 998, 221, 276, 912, 97, 586, 344, 320]\n"
     ]
    }
   ],
   "source": [
    "PositiveNumbers = [list1[i] for i in range(len(list1)) if list1[i] >= 0]\n",
    "print(f'Положительные затраты: {PositiveNumbers}')"
   ]
  },
  {
   "cell_type": "code",
   "execution_count": 6,
   "id": "a847a3ff",
   "metadata": {},
   "outputs": [
    {
     "name": "stdout",
     "output_type": "stream",
     "text": [
      "\n",
      "Сумма положительных затрат: 11846.\n"
     ]
    }
   ],
   "source": [
    "print(f'\\nСумма положительных затрат: {sum(PositiveNumbers, 0)}.')"
   ]
  },
  {
   "cell_type": "raw",
   "id": "bfdc5179",
   "metadata": {},
   "source": []
  },
  {
   "cell_type": "markdown",
   "id": "e1a44219",
   "metadata": {},
   "source": [
    "## Даны два списка.\n",
    "## Дата покупки\n",
    "## ['2021-09-14', '2021-12-15', '2021-09-08', '2021-12-05', '2021-10-09', '2021-09-30', '2021-12-22', '2021-11-29', '2021-12-24', '2021-11-26', '2021-10-27', '2021-12-18', '2021-11-09', '2021-11-23', '2021-09-27', '2021-10-02', '2021-12-27', '2021-09-20', '2021-12-13', '2021-11-01', '2021-11-09', '2021-12-06', '2021-12-08', '2021-10-09', '2021-10-31', '2021-09-30', '2021-11-09', '2021-12-13', '2021-10-26', '2021-12-09']\n",
    "\n",
    "## Суммы покупок по датам\n",
    "## [1270, 8413, 9028, 3703, 5739, 4095, 295, 4944, 5723, 3701, 4471, 651, 7037, 4274, 6275, 4988, 6930, 2971, 6592, 2004, 2822, 519, 3406, 2732, 5015, 2008, 316, 6333, 5700, 2887]\n"
   ]
  },
  {
   "cell_type": "raw",
   "id": "d9cfdadc",
   "metadata": {},
   "source": []
  },
  {
   "cell_type": "markdown",
   "id": "a59d46ba",
   "metadata": {},
   "source": [
    "### 4.1 Найдите, какая выручка у компании в ноябре. Используйте list comprehensions"
   ]
  },
  {
   "cell_type": "code",
   "execution_count": 7,
   "id": "56770db0",
   "metadata": {},
   "outputs": [
    {
     "data": {
      "text/plain": [
       "(['2021-09-14',\n",
       "  '2021-12-15',\n",
       "  '2021-09-08',\n",
       "  '2021-12-05',\n",
       "  '2021-10-09',\n",
       "  '2021-09-30',\n",
       "  '2021-12-22',\n",
       "  '2021-11-29',\n",
       "  '2021-12-24',\n",
       "  '2021-11-26',\n",
       "  '2021-10-27',\n",
       "  '2021-12-18',\n",
       "  '2021-11-09',\n",
       "  '2021-11-23',\n",
       "  '2021-09-27',\n",
       "  '2021-10-02',\n",
       "  '2021-12-27',\n",
       "  '2021-09-20',\n",
       "  '2021-12-13',\n",
       "  '2021-11-01',\n",
       "  '2021-11-09',\n",
       "  '2021-12-06',\n",
       "  '2021-12-08',\n",
       "  '2021-10-09',\n",
       "  '2021-10-31',\n",
       "  '2021-09-30',\n",
       "  '2021-11-09',\n",
       "  '2021-12-13',\n",
       "  '2021-10-26',\n",
       "  '2021-12-09'],\n",
       " [1270,\n",
       "  8413,\n",
       "  9028,\n",
       "  3703,\n",
       "  5739,\n",
       "  4095,\n",
       "  295,\n",
       "  4944,\n",
       "  5723,\n",
       "  3701,\n",
       "  4471,\n",
       "  651,\n",
       "  7037,\n",
       "  4274,\n",
       "  6275,\n",
       "  4988,\n",
       "  6930,\n",
       "  2971,\n",
       "  6592,\n",
       "  2004,\n",
       "  2822,\n",
       "  519,\n",
       "  3406,\n",
       "  2732,\n",
       "  5015,\n",
       "  2008,\n",
       "  316,\n",
       "  6333,\n",
       "  5700,\n",
       "  2887])"
      ]
     },
     "execution_count": 7,
     "metadata": {},
     "output_type": "execute_result"
    }
   ],
   "source": [
    "listDate = ['2021-09-14', '2021-12-15', '2021-09-08', '2021-12-05', '2021-10-09', '2021-09-30', '2021-12-22', '2021-11-29', '2021-12-24', '2021-11-26', '2021-10-27', '2021-12-18', '2021-11-09', '2021-11-23', '2021-09-27', '2021-10-02', '2021-12-27', '2021-09-20', '2021-12-13', '2021-11-01', '2021-11-09', '2021-12-06', '2021-12-08', '2021-10-09', '2021-10-31', '2021-09-30', '2021-11-09', '2021-12-13', '2021-10-26', '2021-12-09']\n",
    "listPays = [1270, 8413, 9028, 3703, 5739, 4095, 295, 4944, 5723, 3701, 4471, 651, 7037, 4274, 6275, 4988, 6930, 2971, 6592, 2004, 2822, 519, 3406, 2732, 5015, 2008, 316, 6333, 5700, 2887]\n",
    "listDate, listPays"
   ]
  },
  {
   "cell_type": "code",
   "execution_count": 8,
   "id": "788b83f6",
   "metadata": {},
   "outputs": [
    {
     "name": "stdout",
     "output_type": "stream",
     "text": [
      "4944\n",
      "8645\n",
      "15682\n",
      "19956\n",
      "21960\n",
      "24782\n",
      "25098\n"
     ]
    }
   ],
   "source": [
    "summ = 0\n",
    "for i in range(len(listDate)):\n",
    "    if listDate[i].split('-')[1] == '11':\n",
    "        summ += listPays[i]\n",
    "        print(summ)\n",
    "# ПОЧЕМУ СЧИТАЕТ ВЕРНО? ВЕДЬ listDate И listSum - НЕЗАВИСИМЫЕ СПИСКИ???"
   ]
  },
  {
   "cell_type": "code",
   "execution_count": 9,
   "id": "d5103ae3",
   "metadata": {
    "scrolled": true
   },
   "outputs": [
    {
     "name": "stdout",
     "output_type": "stream",
     "text": [
      "25098\n"
     ]
    }
   ],
   "source": [
    "# покупки за ноябрь\n",
    "purchasesForNovember = sum([listPays[i] for i in range(len(listDate)) if listDate[i].split('-')[1] == '11'])\n",
    "print(purchasesForNovember)"
   ]
  },
  {
   "cell_type": "raw",
   "id": "e929a22e",
   "metadata": {},
   "source": []
  },
  {
   "cell_type": "markdown",
   "id": "20bf40b4",
   "metadata": {},
   "source": [
    "### 4.2 Найдите выручку компании в зависимости от месяца\n",
    "### Для этого напишите функцию, которая на вход принимает список с датами и список с выручкой, а на выходе словарь, где ключи - это месяцы, а значения - это выручка.\n",
    "### Используйте аннотирование типов."
   ]
  },
  {
   "cell_type": "code",
   "execution_count": 10,
   "id": "4014822a",
   "metadata": {},
   "outputs": [
    {
     "data": {
      "text/plain": [
       "{'2021-09-14': 1270,\n",
       " '2021-12-15': 8413,\n",
       " '2021-09-08': 9028,\n",
       " '2021-12-05': 3703,\n",
       " '2021-10-09': 2732,\n",
       " '2021-09-30': 2008,\n",
       " '2021-12-22': 295,\n",
       " '2021-11-29': 4944,\n",
       " '2021-12-24': 5723,\n",
       " '2021-11-26': 3701,\n",
       " '2021-10-27': 4471,\n",
       " '2021-12-18': 651,\n",
       " '2021-11-09': 316,\n",
       " '2021-11-23': 4274,\n",
       " '2021-09-27': 6275,\n",
       " '2021-10-02': 4988,\n",
       " '2021-12-27': 6930,\n",
       " '2021-09-20': 2971,\n",
       " '2021-12-13': 6333,\n",
       " '2021-11-01': 2004,\n",
       " '2021-12-06': 519,\n",
       " '2021-12-08': 3406,\n",
       " '2021-10-31': 5015,\n",
       " '2021-10-26': 5700,\n",
       " '2021-12-09': 2887}"
      ]
     },
     "execution_count": 10,
     "metadata": {},
     "output_type": "execute_result"
    }
   ],
   "source": [
    "# объединяем в словарь через list comprehensions\n",
    "newDict2 = {listDate[i]: listPays[i] for i in range(len(listDate))}\n",
    "newDict2"
   ]
  },
  {
   "cell_type": "code",
   "execution_count": 11,
   "id": "bff91e49",
   "metadata": {},
   "outputs": [
    {
     "name": "stdout",
     "output_type": "stream",
     "text": [
      "{'2021-09-14': 1270, '2021-12-15': 8413, '2021-09-08': 9028, '2021-12-05': 3703, '2021-10-09': 2732, '2021-09-30': 2008, '2021-12-22': 295, '2021-11-29': 4944, '2021-12-24': 5723, '2021-11-26': 3701, '2021-10-27': 4471, '2021-12-18': 651, '2021-11-09': 316, '2021-11-23': 4274, '2021-09-27': 6275, '2021-10-02': 4988, '2021-12-27': 6930, '2021-09-20': 2971, '2021-12-13': 6333, '2021-11-01': 2004, '2021-12-06': 519, '2021-12-08': 3406, '2021-10-31': 5015, '2021-10-26': 5700, '2021-12-09': 2887}\n"
     ]
    }
   ],
   "source": [
    "# Функция zip() в Python создает итератор, который # объединяет элементы из нескольких источников данных\n",
    "newDict = dict(zip(listDate, listPays))\n",
    "print(newDict)"
   ]
  },
  {
   "cell_type": "code",
   "execution_count": 12,
   "id": "ca38c455",
   "metadata": {},
   "outputs": [
    {
     "name": "stdout",
     "output_type": "stream",
     "text": [
      "2021-09-08 9028\n",
      "2021-09-14 1270\n",
      "2021-09-20 2971\n",
      "2021-09-27 6275\n",
      "2021-09-30 2008\n",
      "2021-10-02 4988\n",
      "2021-10-09 2732\n",
      "2021-10-26 5700\n",
      "2021-10-27 4471\n",
      "2021-10-31 5015\n",
      "2021-11-01 2004\n",
      "2021-11-09 316\n",
      "2021-11-23 4274\n",
      "2021-11-26 3701\n",
      "2021-11-29 4944\n",
      "2021-12-05 3703\n",
      "2021-12-06 519\n",
      "2021-12-08 3406\n",
      "2021-12-09 2887\n",
      "2021-12-13 6333\n",
      "2021-12-15 8413\n",
      "2021-12-18 651\n",
      "2021-12-22 295\n",
      "2021-12-24 5723\n",
      "2021-12-27 6930\n"
     ]
    },
    {
     "data": {
      "text/plain": [
       "{None}"
      ]
     },
     "execution_count": 12,
     "metadata": {},
     "output_type": "execute_result"
    }
   ],
   "source": [
    "{print(listDate, listPays) for listDate, listPays in sorted(newDict2.items())}"
   ]
  },
  {
   "cell_type": "code",
   "execution_count": 13,
   "id": "b3b4497b",
   "metadata": {},
   "outputs": [
    {
     "name": "stdout",
     "output_type": "stream",
     "text": [
      "Отсортированный словарь: \n",
      "2021-09-08 9028\n",
      "2021-09-14 1270\n",
      "2021-09-20 2971\n",
      "2021-09-27 6275\n",
      "2021-09-30 2008\n",
      "2021-10-02 4988\n",
      "2021-10-09 2732\n",
      "2021-10-26 5700\n",
      "2021-10-27 4471\n",
      "2021-10-31 5015\n",
      "2021-11-01 2004\n",
      "2021-11-09 316\n",
      "2021-11-23 4274\n",
      "2021-11-26 3701\n",
      "2021-11-29 4944\n",
      "2021-12-05 3703\n",
      "2021-12-06 519\n",
      "2021-12-08 3406\n",
      "2021-12-09 2887\n",
      "2021-12-13 6333\n",
      "2021-12-15 8413\n",
      "2021-12-18 651\n",
      "2021-12-22 295\n",
      "2021-12-24 5723\n",
      "2021-12-27 6930\n"
     ]
    }
   ],
   "source": [
    "sorted_dict = sorted(newDict2.items())\n",
    "print('Отсортированный словарь: ')\n",
    "for listDate, listPays in sorted_dict:\n",
    "    print(listDate, listPays)"
   ]
  },
  {
   "cell_type": "code",
   "execution_count": 1,
   "id": "f552773b",
   "metadata": {},
   "outputs": [
    {
     "ename": "NameError",
     "evalue": "name 'listDate' is not defined",
     "output_type": "error",
     "traceback": [
      "\u001b[1;31m---------------------------------------------------------------------------\u001b[0m",
      "\u001b[1;31mNameError\u001b[0m                                 Traceback (most recent call last)",
      "Cell \u001b[1;32mIn[1], line 11\u001b[0m\n\u001b[0;32m      9\u001b[0m             total_income[listDate[i]\u001b[38;5;241m.\u001b[39msplit(\u001b[38;5;124m'\u001b[39m\u001b[38;5;124m-\u001b[39m\u001b[38;5;124m'\u001b[39m)[\u001b[38;5;241m1\u001b[39m]] \u001b[38;5;241m=\u001b[39m listPays[i]\n\u001b[0;32m     10\u001b[0m     \u001b[38;5;28;01mreturn\u001b[39;00m total_income\n\u001b[1;32m---> 11\u001b[0m total_income(\u001b[43mlistDate\u001b[49m, listPays)\n",
      "\u001b[1;31mNameError\u001b[0m: name 'listDate' is not defined"
     ]
    }
   ],
   "source": [
    "def total_income(dates: list, pays: list) -> dict:\n",
    "    monthIncome = {}\n",
    "    \n",
    "    for i in range(len(dates)):\n",
    "        #month = dates[i].split('-')[1]\n",
    "        if listDate[i].split('-')[1] in total_income.keys():\n",
    "            total_income[listDate[i].split('-')[1]] += listPays[i]\n",
    "        else:\n",
    "            total_income[listDate[i].split('-')[1]] = listPays[i]\n",
    "    return total_income\n",
    "total_income(listDate, listPays)"
   ]
  }
 ],
 "metadata": {
  "kernelspec": {
   "display_name": "Python 3 (ipykernel)",
   "language": "python",
   "name": "python3"
  },
  "language_info": {
   "codemirror_mode": {
    "name": "ipython",
    "version": 3
   },
   "file_extension": ".py",
   "mimetype": "text/x-python",
   "name": "python",
   "nbconvert_exporter": "python",
   "pygments_lexer": "ipython3",
   "version": "3.11.0"
  }
 },
 "nbformat": 4,
 "nbformat_minor": 5
}
